{
 "cells": [
  {
   "cell_type": "code",
   "execution_count": null,
   "metadata": {},
   "outputs": [],
   "source": [
    "def add(a,b):\n",
    "    answer = a + b\n",
    "    print(str(a) + \"+\" + str(b) + \"=\" + str(answer))\n",
    "def sub(a,b):\n",
    "    answer = a - b\n",
    "    print(str(a) + \"-\" + str(b) + \"=\" + str(answer))\n",
    "def mul(a,b):\n",
    "    answer = a * b\n",
    "    print(str(a) + \"*\" + str(b) + \"=\" + str(answer))\n",
    "def div(a,b):\n",
    "    answer = a / b\n",
    "    print(str(a) + \"/\" + str(b) + \"=\" + str(answer))\n",
    "    \n",
    "while True:\n",
    "        print(\"A. Addition\")\n",
    "        print(\"B. Subtraaction\")\n",
    "        print(\"C. Multiplation\")\n",
    "        print(\"D. Addition\")\n",
    "        print(\"E. Exit\")\n",
    "\n",
    "\n",
    "    select = input(\"Select Operator\")\n",
    "\n",
    "                \n",
    "    add(a,b)\n",
    " eif select == \"b\" or \"B\":\n",
    "    print(\"Subtraction\")\n",
    "    a = int(input(\"Input first number:\"))\n",
    "    b = int(input(\"input Second number:\"))\n",
    "    sub(a,b)\n",
    "        elif select == \"c\" or \"C\":\n",
    "            print(\"Multiplaction\")\n",
    "            a = int(input(\"Input first number:\"))\n",
    "            b = int(input(\"input Second number:\"))\n",
    "            Mul(a,b)\n",
    "        elif select == \"d\" or \"D\":\n",
    "            print(\"Division\")\n",
    "            a = int(input(\"Input first number:\"))\n",
    "            b = int(input(\"input Second number:\"))\n",
    "            div(a,b)\n",
    "        elif select == \"e\" or \"E\":\n",
    "            print(\"program Ended!\")\n",
    "            quit()"
   ]
  }
 ],
 "metadata": {
  "kernelspec": {
   "display_name": "Python 3",
   "language": "python",
   "name": "python3"
  },
  "language_info": {
   "codemirror_mode": {
    "name": "ipython",
    "version": 3
   },
   "file_extension": ".py",
   "mimetype": "text/x-python",
   "name": "python",
   "nbconvert_exporter": "python",
   "pygments_lexer": "ipython3",
   "version": "3.7.4"
  }
 },
 "nbformat": 4,
 "nbformat_minor": 2
}
