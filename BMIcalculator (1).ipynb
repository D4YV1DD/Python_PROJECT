{
 "cells": [
  {
   "cell_type": "code",
   "execution_count": null,
   "metadata": {},
   "outputs": [
    {
     "name": "stdout",
     "output_type": "stream",
     "text": [
      "*****Calculate you status*******\n"
     ]
    }
   ],
   "source": [
    "#BMI calculator\n",
    "def bmi_calculator(name, height_m , weight_kg):\n",
    "    bmi = weight_kg / (height_m ** 2) * 10000\n",
    "    if bmi < 16:\n",
    "        print(name + ' is Severe Thinness')\n",
    "    elif 16 <= bmi <= 17:\n",
    "        print(name + ' is Moderate Thiness')\n",
    "    elif 17 <= bmi <= 18.5:\n",
    "        print(name + ' is Mild Thiness')\n",
    "    elif 18 <= bmi <= 25 :\n",
    "        print(name +  ' is Normal')\n",
    "    elif 25 <= bmi <= 30:\n",
    "        print(name + ' is Overweight')\n",
    "    elif 30 <= bmi <= 35:\n",
    "        print(name + ' is Obese Clas I')\n",
    "    elif 35 <= bmi <= 40 :\n",
    "        print(name + ' is Obese Class II')\n",
    "    elif bmi == 40:\n",
    "        print(name + ' is Obese Class III')\n",
    "    return bmi\n",
    "response = True\n",
    "while response:\n",
    "    print('*****Calculate you status*******')\n",
    "    name = input('Enter Your name :')\n",
    "    height_m = float(input('Enter your Height in m or cm :'))\n",
    "    weight_kg = float(input('Enter your Weight in kg :'))\n",
    "    repeat= input(' Enter q to quit or press Enter to continue Calculating:')\n",
    "    if repeat == 'quit':\n",
    "        response = False\n",
    "        break\n",
    "    over_all = bmi_calculator(name,height_m,weight_kg)\n",
    "    print('Result:' + str(over_all))"
   ]
  },
  {
   "cell_type": "code",
   "execution_count": null,
   "metadata": {},
   "outputs": [],
   "source": [
    "def convert(miles):\n",
    "    km = 1.609344 * miles\n",
    "    print('the calculation is ' + str(km))\n",
    "    return km\n",
    "def convert1(km):\n",
    "    miles = 0.621371 * km\n",
    "    print('the calculation is ' + str(miles))\n",
    "    return miles\n",
    "    \n",
    "while True:\n",
    "    print('********Select Operator*****')\n",
    "    print('A. mile to km')\n",
    "    print('B. km to miles')\n",
    "    print('C. Exit')\n",
    "    \n",
    "    select = input('Enter Operator:')\n",
    "    \n",
    "    if select == 'A' or select == 'a':\n",
    "        print('***** Miles to Km *********')\n",
    "        miles = float(input('Enter miles :'))\n",
    "        convert(miles)\n",
    "    elif select == 'B' or select == 'b':\n",
    "        print('******km to Miles*********')\n",
    "        km = float(input('Enter km :'))\n",
    "        convert1(km)\n",
    "    elif select == 'C' or select =='c':\n",
    "        break\n",
    "        \n",
    "    \n",
    "    "
   ]
  },
  {
   "cell_type": "code",
   "execution_count": null,
   "metadata": {},
   "outputs": [],
   "source": [
    "b = ['banana','apple','microsoft']\n",
    "b['banana'] = 'orange'\n",
    "print(b)"
   ]
  },
  {
   "cell_type": "code",
   "execution_count": null,
   "metadata": {},
   "outputs": [],
   "source": [
    "1 + 1 = 10"
   ]
  },
  {
   "cell_type": "code",
   "execution_count": null,
   "metadata": {},
   "outputs": [],
   "source": [
    "#order\n",
    "def my_patties(patties):\n",
    "    patties = {\n",
    "        'pork':100,\n",
    "        'beef':120,\n",
    "        'chicken':90,\n",
    "        'special wagyu':1000,\n",
    "        'no patty':0\n",
    "    }\n",
    "def my_drinks(drink):\n",
    "    drinks = {\n",
    "        'coke':50.\n",
    "        'juice':30,\n",
    "        'beer':80,\n",
    "        'water':0\n",
    "    }\n",
    "def my_adds_on(adds_on):\n",
    "    adds_on {\n",
    "        'letuce':30,\n",
    "        'cheese':40,\n",
    "        'tomato':25,\n",
    "        'pickles':35,\n",
    "        'no adds_on':0\n",
    "    }\n",
    "    order = drinks + patties + adds_on\n",
    "    print('your bill is' + str(order))\n",
    "    return order\n",
    "while True:\n",
    "    print('********WELCOME TO JOBELEES BURGER**********)\n",
    "    print('A.Order')\n",
    "    print('B.exit')\n",
    "    select = input('Choose')\n",
    "    if select == 'a' or select == 'A':\n",
    "          print()\n",
    "    "
   ]
  }
 ],
 "metadata": {
  "kernelspec": {
   "display_name": "Python 3",
   "language": "python",
   "name": "python3"
  },
  "language_info": {
   "codemirror_mode": {
    "name": "ipython",
    "version": 3
   },
   "file_extension": ".py",
   "mimetype": "text/x-python",
   "name": "python",
   "nbconvert_exporter": "python",
   "pygments_lexer": "ipython3",
   "version": "3.7.4"
  }
 },
 "nbformat": 4,
 "nbformat_minor": 2
}
